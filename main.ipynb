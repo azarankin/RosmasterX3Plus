{
 "cells": [
  {
   "cell_type": "code",
   "execution_count": null,
   "metadata": {},
   "outputs": [
    {
     "name": "stdout",
     "output_type": "stream",
     "text": [
      "pygame 2.6.1 (SDL 2.28.4, Python 3.10.12)\n",
      "Hello from the pygame community. https://www.pygame.org/contribute.html\n",
      "Joystick name: Controller\n",
      "Listening for inputs...\n"
     ]
    }
   ],
   "source": [
    "import pygame\n",
    "pygame.init()\n",
    "\n",
    "# Initialize the joystick\n",
    "joystick = pygame.joystick.Joystick(1)\n",
    "joystick.init()\n",
    "\n",
    "print(f\"Joystick name: {joystick.get_name()}\")\n",
    "print(\"Listening for inputs...\")\n",
    "\n",
    "# Main loop to capture joystick events\n",
    "while True:\n",
    "    for event in pygame.event.get():\n",
    "        if event.type == pygame.JOYBUTTONDOWN:\n",
    "            print(f\"Button {event.button} pressed\")\n",
    "        elif event.type == pygame.JOYBUTTONUP:\n",
    "            print(f\"Button {event.button} released\")\n",
    "        elif event.type == pygame.JOYAXISMOTION:\n",
    "            print(f\"Axis {event.axis} moved to {event.value}\")\n"
   ]
  },
  {
   "cell_type": "code",
   "execution_count": null,
   "metadata": {},
   "outputs": [],
   "source": []
  }
 ],
 "metadata": {
  "kernelspec": {
   "display_name": "Python 3",
   "language": "python",
   "name": "python3"
  },
  "language_info": {
   "codemirror_mode": {
    "name": "ipython",
    "version": 3
   },
   "file_extension": ".py",
   "mimetype": "text/x-python",
   "name": "python",
   "nbconvert_exporter": "python",
   "pygments_lexer": "ipython3",
   "version": "3.10.12"
  }
 },
 "nbformat": 4,
 "nbformat_minor": 2
}
